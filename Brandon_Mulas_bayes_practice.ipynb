{
  "nbformat": 4,
  "nbformat_minor": 0,
  "metadata": {
    "colab": {
      "name": "Brandon_Mulas_bayes_practice.ipynb",
      "provenance": [],
      "include_colab_link": true
    },
    "kernelspec": {
      "name": "python3",
      "display_name": "Python 3"
    }
  },
  "cells": [
    {
      "cell_type": "markdown",
      "metadata": {
        "id": "view-in-github",
        "colab_type": "text"
      },
      "source": [
        "<a href=\"https://colab.research.google.com/github/Sid-Oya/DS-Unit-1-Sprint-2-Statistics/blob/master/Brandon_Mulas_bayes_practice.ipynb\" target=\"_parent\"><img src=\"https://colab.research.google.com/assets/colab-badge.svg\" alt=\"Open In Colab\"/></a>"
      ]
    },
    {
      "cell_type": "code",
      "metadata": {
        "id": "lAIhaQjlYbpK",
        "colab_type": "code",
        "colab": {}
      },
      "source": [
        "import matplotlib.pyplot as plt\n",
        "\n",
        "P_user = 1/200 # prior belief\n",
        "P_non_user = 1 - P_user  # complement of the prior belief\n",
        "P_pos_given_user = 1 # this is the true positive rate\n",
        "P_pos_given_non_user = .01 # this is the false positive rate\n",
        "\n",
        "def prob_drug_use(prob_drug_prior, false_positive_rate, true_positive_rate, number_of_tests):\n",
        "    posterior_probability=prob_drug_prior\n",
        "    prior_post = list()\n",
        "    for test in range(0, number_of_tests):\n",
        "        P_user = posterior_probability # prior belief\n",
        "        P_non_user = 1 - P_user  # complement of the prior belief\n",
        "        P_pos_given_user = true_positive_rate # this is the true positive rate\n",
        "        P_pos_given_non_user = false_positive_rate # this is the false positive rate\n",
        "        posterior_probability = (P_pos_given_user*P_user)/((P_pos_given_user*P_user) + (P_pos_given_non_user*P_non_user))\n",
        "        prior_post.append(posterior_probability)\n",
        "    return prior_post"
      ],
      "execution_count": 0,
      "outputs": []
    },
    {
      "cell_type": "code",
      "metadata": {
        "id": "WU6QhV-uY2YO",
        "colab_type": "code",
        "outputId": "e2c7428a-1f9f-4c12-9f1c-ac2eeb22cfab",
        "colab": {
          "base_uri": "https://localhost:8080/",
          "height": 106
        }
      },
      "source": [
        "prob_drug_use(0.005, 0.01, 1, 5)"
      ],
      "execution_count": 0,
      "outputs": [
        {
          "output_type": "execute_result",
          "data": {
            "text/plain": [
              "[0.33444816053511706,\n",
              " 0.9804882831650161,\n",
              " 0.9998010395931209,\n",
              " 0.99999801000396,\n",
              " 0.9999999801000005]"
            ]
          },
          "metadata": {
            "tags": []
          },
          "execution_count": 9
        }
      ]
    },
    {
      "cell_type": "code",
      "metadata": {
        "id": "Cua70bBxZB2o",
        "colab_type": "code",
        "outputId": "5d3fecbe-b0c3-4e5d-fe24-9b5d8ee74f89",
        "colab": {
          "base_uri": "https://localhost:8080/",
          "height": 211
        }
      },
      "source": [
        "# create a plot figure\n",
        "fig = plt.figure(figsize=(5,3))\n",
        "plt.plot(prob_drug_use(0.005, 0.01, 1, 5), '-x')\n",
        "plt.show();"
      ],
      "execution_count": 0,
      "outputs": [
        {
          "output_type": "display_data",
          "data": {
            "image/png": "[encoded data removed]",
            "text/plain": [
              "<Figure size 360x216 with 1 Axes>"
            ]
          },
          "metadata": {
            "tags": [],
            "needs_background": "light"
          }
        }
      ]
    },
    {
      "cell_type": "code",
      "metadata": {
        "id": "fy2pxX-1Z0_M",
        "colab_type": "code",
        "colab": {}
      },
      "source": [
        "def prob_drug_use(prob_drug_prior, false_positive_rate, true_positive_rate):\n",
        "    posterior_probability=prob_drug_prior\n",
        "    prior_post = list()\n",
        "    while posterior_probability < 0.99:\n",
        "        P_user = posterior_probability # prior belief\n",
        "        P_non_user = 1 - P_user  # complement of the prior belief\n",
        "        P_pos_given_user = true_positive_rate # this is the true positive rate\n",
        "        P_pos_given_non_user = false_positive_rate # this is the false positive rate\n",
        "        posterior_probability = (P_pos_given_user*P_user)/((P_pos_given_user*P_user) + (P_pos_given_non_user*P_non_user))\n",
        "        prior_post.append(posterior_probability)\n",
        "    return prior_post"
      ],
      "execution_count": 0,
      "outputs": []
    },
    {
      "cell_type": "code",
      "metadata": {
        "id": "tktkgo-7aken",
        "colab_type": "code",
        "outputId": "c0755f3f-f107-43b3-d5aa-2ab10a14bbf2",
        "colab": {
          "base_uri": "https://localhost:8080/",
          "height": 35
        }
      },
      "source": [
        "prob_drug_use(0.005, 0.01, 1)"
      ],
      "execution_count": 0,
      "outputs": [
        {
          "output_type": "execute_result",
          "data": {
            "text/plain": [
              "[0.33444816053511706, 0.9804882831650161, 0.9998010395931209]"
            ]
          },
          "metadata": {
            "tags": []
          },
          "execution_count": 16
        }
      ]
    },
    {
      "cell_type": "code",
      "metadata": {
        "id": "eOAr35Umar_r",
        "colab_type": "code",
        "colab": {}
      },
      "source": [
        ""
      ],
      "execution_count": 0,
      "outputs": []
    }
  ]
}