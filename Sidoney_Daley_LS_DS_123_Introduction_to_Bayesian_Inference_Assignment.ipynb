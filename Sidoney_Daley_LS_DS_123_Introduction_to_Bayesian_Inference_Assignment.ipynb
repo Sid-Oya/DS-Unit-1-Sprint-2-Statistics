{
  "nbformat": 4,
  "nbformat_minor": 0,
  "metadata": {
    "colab": {
      "name": "Sidoney_Daley_LS_DS_123_Introduction_to_Bayesian_Inference_Assignment.ipynb",
      "provenance": [],
      "collapsed_sections": [],
      "include_colab_link": true
    },
    "kernelspec": {
      "name": "python3",
      "display_name": "Python 3"
    }
  },
  "cells": [
    {
      "cell_type": "markdown",
      "metadata": {
        "id": "view-in-github",
        "colab_type": "text"
      },
      "source": [
        "<a href=\"https://colab.research.google.com/github/Sid-Oya/DS-Unit-1-Sprint-2-Statistics/blob/master/Sidoney_Daley_LS_DS_123_Introduction_to_Bayesian_Inference_Assignment.ipynb\" target=\"_parent\"><img src=\"https://colab.research.google.com/assets/colab-badge.svg\" alt=\"Open In Colab\"/></a>"
      ]
    },
    {
      "cell_type": "markdown",
      "metadata": {
        "id": "H7OLbevlbd_Z",
        "colab_type": "text"
      },
      "source": [
        "# Lambda School Data Science Module 123\n",
        "\n",
        "## Introduction to Bayesian Inference\n",
        "\n",
        "\n"
      ]
    },
    {
      "cell_type": "markdown",
      "metadata": {
        "id": "P-DzzRk5bf0z",
        "colab_type": "text"
      },
      "source": [
        "## Assignment - Code it up!\n",
        "\n",
        "We used pure math to apply Bayes Theorem to drug tests. Now write Python code to reproduce the results! This is purposefully open ended - you'll have to think about how you should represent probabilities and events. You can and should look things up.\n",
        "\n",
        "Specific goals/targets:\n",
        "\n",
        "### 1) Write a function \n",
        "\n",
        "`def prob_drunk_given_positive(prob_drunk_prior, false_positive_rate, true_positive_rate):` \n",
        "\n",
        "You should only truly need these two values in order to apply Bayes Theorem. In this example, imagine that individuals are taking a breathalyzer test with an 8% false positive rate, a 100% true positive rate, and that our prior belief about drunk driving in the population is 1/1000. \n",
        " - What is the probability that a person is drunk after one positive breathalyzer test?\n",
        " - What is the probability that a person is drunk after two positive breathalyzer tests?\n",
        " - How many positive breathalyzer tests are needed in order to have a probability that's greater than 95% that a person is drunk beyond the legal limit?\n",
        "\n",
        "### 2) Explore `scipy.stats.bayes_mvs`  \n",
        "Read its documentation, and experiment with it on data you've tested in other ways earlier this week.\n",
        " - Create a visualization comparing the results of a Bayesian approach to a traditional/frequentist approach. (with a large sample size they should look close to identical, however, take this opportunity to practice visualizing condfidence intervals in general. The following are some potential ways that you could visualize confidence intervals on your graph:\n",
        "  - [Matplotlib Error Bars](https://matplotlib.org/3.1.1/api/_as_gen/matplotlib.pyplot.errorbar.html)\n",
        "  - [Seaborn barplot with error bars](https://seaborn.pydata.org/generated/seaborn.barplot.html)\n",
        "  - [Vertical ines to show bounds of confidence interval](https://www.simplypsychology.org/confidence-interval.jpg)\n",
        "  - [Confidence Intervals on Box Plots](https://matplotlib.org/3.1.1/api/_as_gen/matplotlib.axes.Axes.boxplot.html)\n",
        "\n",
        "### 3) In your own words, summarize the difference between Bayesian and Frequentist statistics\n",
        "\n",
        "If you're unsure where to start, check out [this blog post of Bayes theorem with Python](https://dataconomy.com/2015/02/introduction-to-bayes-theorem-with-python/).\n",
        "\n"
      ]
    },
    {
      "cell_type": "code",
      "metadata": {
        "id": "xpVhZyUnbf7o",
        "colab_type": "code",
        "outputId": "12b9fbbc-587d-4142-9870-9504a4206394",
        "colab": {
          "base_uri": "https://localhost:8080/",
          "height": 71
        }
      },
      "source": [
        "# TODO - code!\n",
        "\n",
        "import pandas as pd\n",
        "import numpy as np\n",
        "import pymc3 as pm\n",
        "import scipy.stats as st\n",
        "import matplotlib.pyplot as plt\n",
        "import seaborn as sns"
      ],
      "execution_count": 0,
      "outputs": [
        {
          "output_type": "stream",
          "text": [
            "/usr/local/lib/python3.6/dist-packages/statsmodels/tools/_testing.py:19: FutureWarning: pandas.util.testing is deprecated. Use the functions in the public API at pandas.testing instead.\n",
            "  import pandas.util.testing as tm\n"
          ],
          "name": "stderr"
        }
      ]
    },
    {
      "cell_type": "code",
      "metadata": {
        "id": "_UYqc10rFJlt",
        "colab_type": "code",
        "outputId": "9b0a788e-e408-4f55-a1d9-57ebda4fb816",
        "colab": {
          "base_uri": "https://localhost:8080/",
          "height": 34
        }
      },
      "source": [
        "def prob_drunk_given_positive(prob_drunk_prior=0.001, false_positive_rate=0.08, true_positive_rate=1.00):\n",
        "    prob_nondrunk = 1 - prob_drunk_prior\n",
        "    numerator = true_positive_rate * prob_drunk_prior\n",
        "    denomenator = ((true_positive_rate * prob_drunk_prior) + (false_positive_rate * prob_nondrunk))\n",
        "    posterior = numerator/denomenator\n",
        "    return posterior\n",
        "\n",
        "prob_drunk = prob_drunk_given_positive()\n",
        "print(f'{prob_drunk*100}%')"
      ],
      "execution_count": 0,
      "outputs": [
        {
          "output_type": "stream",
          "text": [
            "1.2357884330202669%\n"
          ],
          "name": "stdout"
        }
      ]
    },
    {
      "cell_type": "code",
      "metadata": {
        "id": "gr7MDdUNFn9g",
        "colab_type": "code",
        "outputId": "98b54171-d255-411a-9719-329762f3f6fe",
        "colab": {
          "base_uri": "https://localhost:8080/",
          "height": 34
        }
      },
      "source": [
        "def prob_drunk_given_positive(prob_drunk_prior=0.001, false_positive_rate=0.08, true_positive_rate=1.00):\n",
        "    prob_nondrunk = 1 - prob_drunk_prior\n",
        "    prob_drunk_prior = prob_drunk\n",
        "    numerator = true_positive_rate * prob_drunk_prior\n",
        "    denomenator = ((true_positive_rate * prob_drunk_prior) + (false_positive_rate * prob_nondrunk))\n",
        "    posterior = numerator/denomenator\n",
        "    return posterior\n",
        "\n",
        "prob_drunk1 = prob_drunk_given_positive()\n",
        "print(f'{prob_drunk1*100}%')"
      ],
      "execution_count": 0,
      "outputs": [
        {
          "output_type": "stream",
          "text": [
            "13.392032576279945%\n"
          ],
          "name": "stdout"
        }
      ]
    },
    {
      "cell_type": "code",
      "metadata": {
        "id": "fKdSY4pnNmQ8",
        "colab_type": "code",
        "outputId": "f60fff5b-1dca-4b98-fbfd-f5f173f25666",
        "colab": {
          "base_uri": "https://localhost:8080/",
          "height": 34
        }
      },
      "source": [
        "def prob_drunk_given_positive(prob_drunk_prior=0.001, false_positive_rate=0.08, true_positive_rate=1.00):\n",
        "    prob_nondrunk = 1 - prob_drunk_prior\n",
        "    prob_drunk_prior = prob_drunk1\n",
        "    numerator = true_positive_rate * prob_drunk_prior\n",
        "    denomenator = ((true_positive_rate * prob_drunk_prior) + (false_positive_rate * prob_nondrunk))\n",
        "    posterior = numerator/denomenator\n",
        "    return posterior\n",
        "\n",
        "prob_drunk2 = prob_drunk_given_positive()\n",
        "print(f'{prob_drunk2*100}%')"
      ],
      "execution_count": 0,
      "outputs": [
        {
          "output_type": "stream",
          "text": [
            "62.62631956114275%\n"
          ],
          "name": "stdout"
        }
      ]
    },
    {
      "cell_type": "code",
      "metadata": {
        "id": "4E2enrhFONXZ",
        "colab_type": "code",
        "outputId": "2dbad9d1-7294-4088-9157-83c6b3d4f449",
        "colab": {
          "base_uri": "https://localhost:8080/",
          "height": 34
        }
      },
      "source": [
        "def prob_drunk_given_positive(prob_drunk_prior=0.001, false_positive_rate=0.08, true_positive_rate=1.00):\n",
        "    prob_nondrunk = 1 - prob_drunk_prior\n",
        "    prob_drunk_prior = prob_drunk2\n",
        "    numerator = true_positive_rate * prob_drunk_prior\n",
        "    denomenator = ((true_positive_rate * prob_drunk_prior) + (false_positive_rate * prob_nondrunk))\n",
        "    posterior = numerator/denomenator\n",
        "    return posterior\n",
        "\n",
        "prob_drunk3 = prob_drunk_given_positive()\n",
        "print(f'{prob_drunk3*100}%')"
      ],
      "execution_count": 0,
      "outputs": [
        {
          "output_type": "stream",
          "text": [
            "88.68282331034462%\n"
          ],
          "name": "stdout"
        }
      ]
    },
    {
      "cell_type": "code",
      "metadata": {
        "id": "nKVJIhkVOV0S",
        "colab_type": "code",
        "outputId": "6d110ba2-76bd-4519-c03e-698e28da69fc",
        "colab": {
          "base_uri": "https://localhost:8080/",
          "height": 34
        }
      },
      "source": [
        "def prob_drunk_given_positive(prob_drunk_prior=0.001, false_positive_rate=0.08, true_positive_rate=1.00):\n",
        "    prob_nondrunk = 1 - prob_drunk_prior\n",
        "    prob_drunk_prior = prob_drunk3\n",
        "    numerator = true_positive_rate * prob_drunk_prior\n",
        "    denomenator = ((true_positive_rate * prob_drunk_prior) + (false_positive_rate * prob_nondrunk))\n",
        "    posterior = numerator/denomenator\n",
        "    return posterior\n",
        "\n",
        "prob_drunk4 = prob_drunk_given_positive()\n",
        "print(f'{prob_drunk4*100}%')"
      ],
      "execution_count": 0,
      "outputs": [
        {
          "output_type": "stream",
          "text": [
            "91.73311134550083%\n"
          ],
          "name": "stdout"
        }
      ]
    },
    {
      "cell_type": "code",
      "metadata": {
        "id": "PnMQM5x7Obie",
        "colab_type": "code",
        "outputId": "3cc6af0c-1ead-4faf-a475-c5901b94e57f",
        "colab": {
          "base_uri": "https://localhost:8080/",
          "height": 34
        }
      },
      "source": [
        "def prob_drunk_given_positive(prob_drunk_prior=0.001, false_positive_rate=0.08, true_positive_rate=1.00):\n",
        "    prob_nondrunk = 1 - prob_drunk_prior\n",
        "    prob_drunk_prior = prob_drunk4\n",
        "    numerator = true_positive_rate * prob_drunk_prior\n",
        "    denomenator = ((true_positive_rate * prob_drunk_prior) + (false_positive_rate * prob_nondrunk))\n",
        "    posterior = numerator/denomenator\n",
        "    return posterior\n",
        "\n",
        "prob_drunk5 = prob_drunk_given_positive()\n",
        "print(f'{prob_drunk5*100}%')"
      ],
      "execution_count": 0,
      "outputs": [
        {
          "output_type": "stream",
          "text": [
            "91.98597034170113%\n"
          ],
          "name": "stdout"
        }
      ]
    },
    {
      "cell_type": "code",
      "metadata": {
        "id": "mkQ5S3wrOt9X",
        "colab_type": "code",
        "outputId": "e9d2fb87-9bd2-4be8-a81e-12d240267e48",
        "colab": {
          "base_uri": "https://localhost:8080/",
          "height": 34
        }
      },
      "source": [
        "def prob_drunk_given_positive(prob_drunk_prior=0.001, false_positive_rate=0.08, true_positive_rate=1.00):\n",
        "    prob_nondrunk = 1 - prob_drunk_prior\n",
        "    prob_drunk_prior = prob_drunk5\n",
        "    numerator = true_positive_rate * prob_drunk_prior\n",
        "    denomenator = ((true_positive_rate * prob_drunk_prior) + (false_positive_rate * prob_nondrunk))\n",
        "    posterior = numerator/denomenator\n",
        "    return posterior\n",
        "\n",
        "prob_drunk6 = prob_drunk_given_positive()\n",
        "print(f'{prob_drunk6*100}%')"
      ],
      "execution_count": 0,
      "outputs": [
        {
          "output_type": "stream",
          "text": [
            "92.00623900176687%\n"
          ],
          "name": "stdout"
        }
      ]
    },
    {
      "cell_type": "code",
      "metadata": {
        "id": "7QThPBQgFoA1",
        "colab_type": "code",
        "outputId": "e78011ec-16d6-4e57-bf20-7612e32c7e27",
        "colab": {
          "base_uri": "https://localhost:8080/",
          "height": 34
        }
      },
      "source": [
        "def prob_drunk_given_positive(prob_drunk_prior=0.001, false_positive_rate=0.08, true_positive_rate=1.00):\n",
        "    prob_nondrunk = 1 - prob_drunk_prior\n",
        "    prob_drunk_prior = prob_drunk6\n",
        "    numerator = true_positive_rate * prob_drunk_prior\n",
        "    denomenator = ((true_positive_rate * prob_drunk_prior) + (false_positive_rate * prob_nondrunk))\n",
        "    posterior = numerator/denomenator\n",
        "    return posterior\n",
        "\n",
        "prob_drunk7 = prob_drunk_given_positive()\n",
        "print(f'{prob_drunk7*100}%')"
      ],
      "execution_count": 0,
      "outputs": [
        {
          "output_type": "stream",
          "text": [
            "92.00785925854275%\n"
          ],
          "name": "stdout"
        }
      ]
    },
    {
      "cell_type": "code",
      "metadata": {
        "id": "VqIcWLr-GH5E",
        "colab_type": "code",
        "outputId": "8ed0f498-17a4-4e4a-ca37-4c061930e635",
        "colab": {
          "base_uri": "https://localhost:8080/",
          "height": 34
        }
      },
      "source": [
        "def prob_drunk_given_positive(prob_drunk_prior=0.001, false_positive_rate=0.08, true_positive_rate=1.00):\n",
        "    prob_nondrunk = 1 - prob_drunk_prior\n",
        "    prob_drunk_prior = prob_drunk7\n",
        "    numerator = true_positive_rate * prob_drunk_prior\n",
        "    denomenator = ((true_positive_rate * prob_drunk_prior) + (false_positive_rate * prob_nondrunk))\n",
        "    posterior = numerator/denomenator\n",
        "    return posterior\n",
        "\n",
        "prob_drunk8 = prob_drunk_given_positive()\n",
        "print(f'{prob_drunk8*100}%')"
      ],
      "execution_count": 0,
      "outputs": [
        {
          "output_type": "stream",
          "text": [
            "92.0079887519269%\n"
          ],
          "name": "stdout"
        }
      ]
    },
    {
      "cell_type": "code",
      "metadata": {
        "id": "ZCFMdk5YS_Pq",
        "colab_type": "code",
        "outputId": "11251a9b-ca05-4658-8eb3-2312883f97ba",
        "colab": {
          "base_uri": "https://localhost:8080/",
          "height": 34
        }
      },
      "source": [
        "def prob_drunk_given_positive(prob_drunk_prior=0.001, false_positive_rate=0.08, true_positive_rate=1.00):\n",
        "    prob_nondrunk = 1 - prob_drunk_prior\n",
        "    prob_drunk_prior = prob_drunk8\n",
        "    numerator = true_positive_rate * prob_drunk_prior\n",
        "    denomenator = ((true_positive_rate * prob_drunk_prior) + (false_positive_rate * prob_nondrunk))\n",
        "    posterior = numerator/denomenator\n",
        "    return posterior\n",
        "\n",
        "prob_drunk9 = prob_drunk_given_positive()\n",
        "print(f'{prob_drunk9*100}%')"
      ],
      "execution_count": 0,
      "outputs": [
        {
          "output_type": "stream",
          "text": [
            "92.0079991010539%\n"
          ],
          "name": "stdout"
        }
      ]
    },
    {
      "cell_type": "markdown",
      "metadata": {
        "id": "Hu7fTR8NX-H1",
        "colab_type": "text"
      },
      "source": [
        ""
      ]
    },
    {
      "cell_type": "code",
      "metadata": {
        "id": "FcTFu_Mf6r4B",
        "colab_type": "code",
        "outputId": "090f3845-f629-4c6c-9164-5c0058a07205",
        "colab": {
          "base_uri": "https://localhost:8080/",
          "height": 204
        }
      },
      "source": [
        "url = 'https://archive.ics.uci.edu/ml/machine-learning-databases/forest-fires/forestfires.csv'\n",
        "forestfires = pd.read_csv(url)\n",
        "forestfires.head ()"
      ],
      "execution_count": 0,
      "outputs": [
        {
          "output_type": "execute_result",
          "data": {
            "text/html": [
              "<div>\n",
              "<style scoped>\n",
              "    .dataframe tbody tr th:only-of-type {\n",
              "        vertical-align: middle;\n",
              "    }\n",
              "\n",
              "    .dataframe tbody tr th {\n",
              "        vertical-align: top;\n",
              "    }\n",
              "\n",
              "    .dataframe thead th {\n",
              "        text-align: right;\n",
              "    }\n",
              "</style>\n",
              "<table border=\"1\" class=\"dataframe\">\n",
              "  <thead>\n",
              "    <tr style=\"text-align: right;\">\n",
              "      <th></th>\n",
              "      <th>X</th>\n",
              "      <th>Y</th>\n",
              "      <th>month</th>\n",
              "      <th>day</th>\n",
              "      <th>FFMC</th>\n",
              "      <th>DMC</th>\n",
              "      <th>DC</th>\n",
              "      <th>ISI</th>\n",
              "      <th>temp</th>\n",
              "      <th>RH</th>\n",
              "      <th>wind</th>\n",
              "      <th>rain</th>\n",
              "      <th>area</th>\n",
              "    </tr>\n",
              "  </thead>\n",
              "  <tbody>\n",
              "    <tr>\n",
              "      <th>0</th>\n",
              "      <td>7</td>\n",
              "      <td>5</td>\n",
              "      <td>mar</td>\n",
              "      <td>fri</td>\n",
              "      <td>86.2</td>\n",
              "      <td>26.2</td>\n",
              "      <td>94.3</td>\n",
              "      <td>5.1</td>\n",
              "      <td>8.2</td>\n",
              "      <td>51</td>\n",
              "      <td>6.7</td>\n",
              "      <td>0.0</td>\n",
              "      <td>0.0</td>\n",
              "    </tr>\n",
              "    <tr>\n",
              "      <th>1</th>\n",
              "      <td>7</td>\n",
              "      <td>4</td>\n",
              "      <td>oct</td>\n",
              "      <td>tue</td>\n",
              "      <td>90.6</td>\n",
              "      <td>35.4</td>\n",
              "      <td>669.1</td>\n",
              "      <td>6.7</td>\n",
              "      <td>18.0</td>\n",
              "      <td>33</td>\n",
              "      <td>0.9</td>\n",
              "      <td>0.0</td>\n",
              "      <td>0.0</td>\n",
              "    </tr>\n",
              "    <tr>\n",
              "      <th>2</th>\n",
              "      <td>7</td>\n",
              "      <td>4</td>\n",
              "      <td>oct</td>\n",
              "      <td>sat</td>\n",
              "      <td>90.6</td>\n",
              "      <td>43.7</td>\n",
              "      <td>686.9</td>\n",
              "      <td>6.7</td>\n",
              "      <td>14.6</td>\n",
              "      <td>33</td>\n",
              "      <td>1.3</td>\n",
              "      <td>0.0</td>\n",
              "      <td>0.0</td>\n",
              "    </tr>\n",
              "    <tr>\n",
              "      <th>3</th>\n",
              "      <td>8</td>\n",
              "      <td>6</td>\n",
              "      <td>mar</td>\n",
              "      <td>fri</td>\n",
              "      <td>91.7</td>\n",
              "      <td>33.3</td>\n",
              "      <td>77.5</td>\n",
              "      <td>9.0</td>\n",
              "      <td>8.3</td>\n",
              "      <td>97</td>\n",
              "      <td>4.0</td>\n",
              "      <td>0.2</td>\n",
              "      <td>0.0</td>\n",
              "    </tr>\n",
              "    <tr>\n",
              "      <th>4</th>\n",
              "      <td>8</td>\n",
              "      <td>6</td>\n",
              "      <td>mar</td>\n",
              "      <td>sun</td>\n",
              "      <td>89.3</td>\n",
              "      <td>51.3</td>\n",
              "      <td>102.2</td>\n",
              "      <td>9.6</td>\n",
              "      <td>11.4</td>\n",
              "      <td>99</td>\n",
              "      <td>1.8</td>\n",
              "      <td>0.0</td>\n",
              "      <td>0.0</td>\n",
              "    </tr>\n",
              "  </tbody>\n",
              "</table>\n",
              "</div>"
            ],
            "text/plain": [
              "   X  Y month  day  FFMC   DMC     DC  ISI  temp  RH  wind  rain  area\n",
              "0  7  5   mar  fri  86.2  26.2   94.3  5.1   8.2  51   6.7   0.0   0.0\n",
              "1  7  4   oct  tue  90.6  35.4  669.1  6.7  18.0  33   0.9   0.0   0.0\n",
              "2  7  4   oct  sat  90.6  43.7  686.9  6.7  14.6  33   1.3   0.0   0.0\n",
              "3  8  6   mar  fri  91.7  33.3   77.5  9.0   8.3  97   4.0   0.2   0.0\n",
              "4  8  6   mar  sun  89.3  51.3  102.2  9.6  11.4  99   1.8   0.0   0.0"
            ]
          },
          "metadata": {
            "tags": []
          },
          "execution_count": 10
        }
      ]
    },
    {
      "cell_type": "code",
      "metadata": {
        "id": "JnEgUACN6xej",
        "colab_type": "code",
        "colab": {}
      },
      "source": [
        "march = forestfires[forestfires['month']=='mar']"
      ],
      "execution_count": 0,
      "outputs": []
    },
    {
      "cell_type": "code",
      "metadata": {
        "id": "zU-7ylcF6xqo",
        "colab_type": "code",
        "outputId": "7a188161-ac39-4748-b0c0-c871e81c58ef",
        "colab": {
          "base_uri": "https://localhost:8080/",
          "height": 34
        }
      },
      "source": [
        "print(march['temp'].mean())"
      ],
      "execution_count": 0,
      "outputs": [
        {
          "output_type": "stream",
          "text": [
            "13.083333333333337\n"
          ],
          "name": "stdout"
        }
      ]
    },
    {
      "cell_type": "code",
      "metadata": {
        "id": "bKoYFZb46xza",
        "colab_type": "code",
        "colab": {}
      },
      "source": [
        "october = forestfires[forestfires['month']=='oct']"
      ],
      "execution_count": 0,
      "outputs": []
    },
    {
      "cell_type": "code",
      "metadata": {
        "id": "nS0BErMo6x3P",
        "colab_type": "code",
        "outputId": "6d196dbc-3317-44fd-9e7a-a5ddfc56662f",
        "colab": {
          "base_uri": "https://localhost:8080/",
          "height": 34
        }
      },
      "source": [
        "print(october['temp'].mean())"
      ],
      "execution_count": 0,
      "outputs": [
        {
          "output_type": "stream",
          "text": [
            "17.093333333333337\n"
          ],
          "name": "stdout"
        }
      ]
    },
    {
      "cell_type": "code",
      "metadata": {
        "id": "89LKPDdzkhmc",
        "colab_type": "code",
        "colab": {}
      },
      "source": [
        "from scipy.stats import ttest_ind"
      ],
      "execution_count": 0,
      "outputs": []
    },
    {
      "cell_type": "code",
      "metadata": {
        "id": "2523OIFS6x6C",
        "colab_type": "code",
        "outputId": "5fe3c540-d881-4b24-ba09-bb922471bac2",
        "colab": {
          "base_uri": "https://localhost:8080/",
          "height": 34
        }
      },
      "source": [
        "ttest_ind( october['temp'], march['temp'], nan_policy='omit')"
      ],
      "execution_count": 0,
      "outputs": [
        {
          "output_type": "execute_result",
          "data": {
            "text/plain": [
              "Ttest_indResult(statistic=4.429896257588801, pvalue=3.5724294177619404e-05)"
            ]
          },
          "metadata": {
            "tags": []
          },
          "execution_count": 64
        }
      ]
    },
    {
      "cell_type": "markdown",
      "metadata": {
        "id": "NVC-rU2kk_EI",
        "colab_type": "text"
      },
      "source": [
        "The temperature in October tends to be higher than the temperature in March\n"
      ]
    },
    {
      "cell_type": "code",
      "metadata": {
        "id": "AnHJPstl6x89",
        "colab_type": "code",
        "colab": {}
      },
      "source": [
        ""
      ],
      "execution_count": 0,
      "outputs": []
    },
    {
      "cell_type": "markdown",
      "metadata": {
        "id": "uWgWjp3PQ3Sq",
        "colab_type": "text"
      },
      "source": [
        "## Resources"
      ]
    },
    {
      "cell_type": "markdown",
      "metadata": {
        "id": "QRgHqmYIQ9qn",
        "colab_type": "text"
      },
      "source": [
        "- [Worked example of Bayes rule calculation](https://en.wikipedia.org/wiki/Bayes'_theorem#Examples) (helpful as it fully breaks out the denominator)\n",
        "- [Source code for mvsdist in scipy](https://github.com/scipy/scipy/blob/90534919e139d2a81c24bf08341734ff41a3db12/scipy/stats/morestats.py#L139)"
      ]
    },
    {
      "cell_type": "markdown",
      "metadata": {
        "id": "GP7Jv1XvwtkX",
        "colab_type": "text"
      },
      "source": [
        "## Stretch Goals:\n",
        "\n",
        "- Go back and study the content from Modules 1 & 2 to make sure that you're really comfortable with them.\n",
        "- Apply a Bayesian technique to a problem you previously worked (in an assignment or project work) on from a frequentist (standard) perspective\n",
        "- Check out [PyMC3](https://docs.pymc.io/) (note this goes beyond hypothesis tests into modeling) - read the guides and work through some examples\n",
        "- Take PyMC3 further - see if you can build something with it!"
      ]
    },
    {
      "cell_type": "code",
      "metadata": {
        "id": "iDi0eFr1x-v_",
        "colab_type": "code",
        "colab": {}
      },
      "source": [
        ""
      ],
      "execution_count": 0,
      "outputs": []
    }
  ]
}