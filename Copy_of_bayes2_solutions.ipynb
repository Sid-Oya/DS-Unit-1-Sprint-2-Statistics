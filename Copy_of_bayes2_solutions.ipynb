{
  "nbformat": 4,
  "nbformat_minor": 0,
  "metadata": {
    "kernelspec": {
      "display_name": "Python 3",
      "language": "python",
      "name": "python3"
    },
    "language_info": {
      "codemirror_mode": {
        "name": "ipython",
        "version": 3
      },
      "file_extension": ".py",
      "mimetype": "text/x-python",
      "name": "python",
      "nbconvert_exporter": "python",
      "pygments_lexer": "ipython3",
      "version": "3.7.3"
    },
    "colab": {
      "name": "Copy of bayes2_solutions.ipynb",
      "provenance": [],
      "include_colab_link": true
    }
  },
  "cells": [
    {
      "cell_type": "markdown",
      "metadata": {
        "id": "view-in-github",
        "colab_type": "text"
      },
      "source": [
        "<a href=\"https://colab.research.google.com/github/Sid-Oya/DS-Unit-1-Sprint-2-Statistics/blob/master/Copy_of_bayes2_solutions.ipynb\" target=\"_parent\"><img src=\"https://colab.research.google.com/assets/colab-badge.svg\" alt=\"Open In Colab\"/></a>"
      ]
    },
    {
      "cell_type": "markdown",
      "metadata": {
        "id": "feyLLuwD7iCV",
        "colab_type": "text"
      },
      "source": [
        "## Example of a classifier"
      ]
    },
    {
      "cell_type": "code",
      "metadata": {
        "id": "7oPOcaWy7iCX",
        "colab_type": "code",
        "colab": {}
      },
      "source": [
        "# EDA and data handling\n",
        "import numpy as np \n",
        "import pandas as pd \n",
        "import pickle\n",
        "\n",
        "# Modeling\n",
        "from sklearn.model_selection import train_test_split \n",
        "from sklearn.ensemble import RandomForestClassifier \n",
        "from sklearn import metrics"
      ],
      "execution_count": 0,
      "outputs": []
    },
    {
      "cell_type": "code",
      "metadata": {
        "id": "VmDZLprX7iCq",
        "colab_type": "code",
        "outputId": "589af7db-1d8d-4480-edc0-36ab181af170",
        "colab": {}
      },
      "source": [
        "# read in the data\n",
        "# housing_train = pd.read_csv('/content/sample_data/california_housing_train.csv')\n",
        "housing_train = pd.read_csv('california_housing_train.csv')\n",
        "housing_train.shape"
      ],
      "execution_count": 0,
      "outputs": [
        {
          "output_type": "execute_result",
          "data": {
            "text/plain": [
              "(17000, 9)"
            ]
          },
          "metadata": {
            "tags": []
          },
          "execution_count": 4
        }
      ]
    },
    {
      "cell_type": "code",
      "metadata": {
        "id": "lrJAZF5a7iC1",
        "colab_type": "code",
        "colab": {}
      },
      "source": [
        "# reduce the size of the dataset\n",
        "housing_train = housing_train.sample(500)"
      ],
      "execution_count": 0,
      "outputs": []
    },
    {
      "cell_type": "code",
      "metadata": {
        "id": "pLaV3vpq7iC5",
        "colab_type": "code",
        "outputId": "04d9dfce-3dbb-4a13-bad6-742c1e04cba1",
        "colab": {}
      },
      "source": [
        "# show the data \n",
        "housing_train.head()"
      ],
      "execution_count": 0,
      "outputs": [
        {
          "output_type": "execute_result",
          "data": {
            "text/html": [
              "<div>\n",
              "<style scoped>\n",
              "    .dataframe tbody tr th:only-of-type {\n",
              "        vertical-align: middle;\n",
              "    }\n",
              "\n",
              "    .dataframe tbody tr th {\n",
              "        vertical-align: top;\n",
              "    }\n",
              "\n",
              "    .dataframe thead th {\n",
              "        text-align: right;\n",
              "    }\n",
              "</style>\n",
              "<table border=\"1\" class=\"dataframe\">\n",
              "  <thead>\n",
              "    <tr style=\"text-align: right;\">\n",
              "      <th></th>\n",
              "      <th>longitude</th>\n",
              "      <th>latitude</th>\n",
              "      <th>housing_median_age</th>\n",
              "      <th>total_rooms</th>\n",
              "      <th>total_bedrooms</th>\n",
              "      <th>population</th>\n",
              "      <th>households</th>\n",
              "      <th>median_income</th>\n",
              "      <th>median_house_value</th>\n",
              "    </tr>\n",
              "  </thead>\n",
              "  <tbody>\n",
              "    <tr>\n",
              "      <th>632</th>\n",
              "      <td>-117.03</td>\n",
              "      <td>32.67</td>\n",
              "      <td>15.0</td>\n",
              "      <td>5094.0</td>\n",
              "      <td>818.0</td>\n",
              "      <td>2118.0</td>\n",
              "      <td>758.0</td>\n",
              "      <td>5.3505</td>\n",
              "      <td>266600.0</td>\n",
              "    </tr>\n",
              "    <tr>\n",
              "      <th>16031</th>\n",
              "      <td>-122.44</td>\n",
              "      <td>37.72</td>\n",
              "      <td>52.0</td>\n",
              "      <td>1507.0</td>\n",
              "      <td>282.0</td>\n",
              "      <td>929.0</td>\n",
              "      <td>281.0</td>\n",
              "      <td>3.8958</td>\n",
              "      <td>247700.0</td>\n",
              "    </tr>\n",
              "    <tr>\n",
              "      <th>6095</th>\n",
              "      <td>-118.23</td>\n",
              "      <td>34.18</td>\n",
              "      <td>47.0</td>\n",
              "      <td>1853.0</td>\n",
              "      <td>345.0</td>\n",
              "      <td>757.0</td>\n",
              "      <td>310.0</td>\n",
              "      <td>3.6875</td>\n",
              "      <td>422000.0</td>\n",
              "    </tr>\n",
              "    <tr>\n",
              "      <th>10841</th>\n",
              "      <td>-120.79</td>\n",
              "      <td>38.54</td>\n",
              "      <td>34.0</td>\n",
              "      <td>1133.0</td>\n",
              "      <td>254.0</td>\n",
              "      <td>495.0</td>\n",
              "      <td>187.0</td>\n",
              "      <td>2.0500</td>\n",
              "      <td>68900.0</td>\n",
              "    </tr>\n",
              "    <tr>\n",
              "      <th>1332</th>\n",
              "      <td>-117.16</td>\n",
              "      <td>32.79</td>\n",
              "      <td>32.0</td>\n",
              "      <td>1731.0</td>\n",
              "      <td>413.0</td>\n",
              "      <td>1569.0</td>\n",
              "      <td>427.0</td>\n",
              "      <td>3.3375</td>\n",
              "      <td>154300.0</td>\n",
              "    </tr>\n",
              "  </tbody>\n",
              "</table>\n",
              "</div>"
            ],
            "text/plain": [
              "       longitude  latitude  housing_median_age  total_rooms  total_bedrooms  \\\n",
              "632      -117.03     32.67                15.0       5094.0           818.0   \n",
              "16031    -122.44     37.72                52.0       1507.0           282.0   \n",
              "6095     -118.23     34.18                47.0       1853.0           345.0   \n",
              "10841    -120.79     38.54                34.0       1133.0           254.0   \n",
              "1332     -117.16     32.79                32.0       1731.0           413.0   \n",
              "\n",
              "       population  households  median_income  median_house_value  \n",
              "632        2118.0       758.0         5.3505            266600.0  \n",
              "16031       929.0       281.0         3.8958            247700.0  \n",
              "6095        757.0       310.0         3.6875            422000.0  \n",
              "10841       495.0       187.0         2.0500             68900.0  \n",
              "1332       1569.0       427.0         3.3375            154300.0  "
            ]
          },
          "metadata": {
            "tags": []
          },
          "execution_count": 6
        }
      ]
    },
    {
      "cell_type": "code",
      "metadata": {
        "id": "9hcTTAJn7iC8",
        "colab_type": "code",
        "outputId": "5c1a6b27-4396-43cd-a9d4-208f7f494386",
        "colab": {}
      },
      "source": [
        "# Describe the target \n",
        "housing_train['median_house_value'].describe()"
      ],
      "execution_count": 0,
      "outputs": [
        {
          "output_type": "execute_result",
          "data": {
            "text/plain": [
              "count       500.000000\n",
              "mean     199924.828000\n",
              "std      112032.804248\n",
              "min       14999.000000\n",
              "25%      116775.000000\n",
              "50%      174450.000000\n",
              "75%      254275.000000\n",
              "max      500001.000000\n",
              "Name: median_house_value, dtype: float64"
            ]
          },
          "metadata": {
            "tags": []
          },
          "execution_count": 7
        }
      ]
    },
    {
      "cell_type": "code",
      "metadata": {
        "id": "oUBxgmLV7iDH",
        "colab_type": "code",
        "colab": {}
      },
      "source": [
        "# create the target \n",
        "housing_train['high_price']=np.where(housing_train['median_house_value']>=187250, 1, 0)"
      ],
      "execution_count": 0,
      "outputs": []
    },
    {
      "cell_type": "code",
      "metadata": {
        "id": "Snid9Lg57iDe",
        "colab_type": "code",
        "colab": {}
      },
      "source": [
        "# establish the predictors and the target\n",
        "X = housing_train.drop(['median_house_value','high_price'], axis=1)\n",
        "y = housing_train['high_price']"
      ],
      "execution_count": 0,
      "outputs": []
    },
    {
      "cell_type": "code",
      "metadata": {
        "id": "ENPFg2AV7iD3",
        "colab_type": "code",
        "outputId": "5bb1c8ad-5acd-4160-a660-927f535263da",
        "colab": {}
      },
      "source": [
        "# train-test split\n",
        "X_train, X_test, y_train, y_test = train_test_split(X , y, test_size=0.3, random_state=42 )\n",
        "print('length of y-test:', len(y_test))"
      ],
      "execution_count": 0,
      "outputs": [
        {
          "output_type": "stream",
          "text": [
            "length of y-test: 150\n"
          ],
          "name": "stdout"
        }
      ]
    },
    {
      "cell_type": "code",
      "metadata": {
        "id": "mPWiEfa87iEJ",
        "colab_type": "code",
        "colab": {}
      },
      "source": [
        "# instantiate the classifier\n",
        "mymodel = RandomForestClassifier()"
      ],
      "execution_count": 0,
      "outputs": []
    },
    {
      "cell_type": "code",
      "metadata": {
        "id": "PXK0w79o7iEN",
        "colab_type": "code",
        "outputId": "53cc3bdb-43ee-4218-8521-d954729d049d",
        "colab": {}
      },
      "source": [
        "# fit on the training data\n",
        "mymodel.fit(X_train, y_train)"
      ],
      "execution_count": 0,
      "outputs": [
        {
          "output_type": "stream",
          "text": [
            "//anaconda3/lib/python3.7/site-packages/sklearn/ensemble/forest.py:245: FutureWarning: The default value of n_estimators will change from 10 in version 0.20 to 100 in 0.22.\n",
            "  \"10 in version 0.20 to 100 in 0.22.\", FutureWarning)\n"
          ],
          "name": "stderr"
        },
        {
          "output_type": "execute_result",
          "data": {
            "text/plain": [
              "RandomForestClassifier(bootstrap=True, class_weight=None, criterion='gini',\n",
              "                       max_depth=None, max_features='auto', max_leaf_nodes=None,\n",
              "                       min_impurity_decrease=0.0, min_impurity_split=None,\n",
              "                       min_samples_leaf=1, min_samples_split=2,\n",
              "                       min_weight_fraction_leaf=0.0, n_estimators=10,\n",
              "                       n_jobs=None, oob_score=False, random_state=None,\n",
              "                       verbose=0, warm_start=False)"
            ]
          },
          "metadata": {
            "tags": []
          },
          "execution_count": 12
        }
      ]
    },
    {
      "cell_type": "code",
      "metadata": {
        "id": "sYsfU_Pc7iER",
        "colab_type": "code",
        "colab": {}
      },
      "source": [
        "# predict on the testing data\n",
        "y_preds = mymodel.predict(X_test)"
      ],
      "execution_count": 0,
      "outputs": []
    },
    {
      "cell_type": "code",
      "metadata": {
        "id": "d66MqVTE7iEc",
        "colab_type": "code",
        "outputId": "5ed45606-ab31-426c-ddd6-c9549557dafc",
        "colab": {}
      },
      "source": [
        "# check out the first few houses\n",
        "print(y_test.values[:10], 'true')\n",
        "print(y_preds[:10], 'predicted')"
      ],
      "execution_count": 0,
      "outputs": [
        {
          "output_type": "stream",
          "text": [
            "[1 0 1 0 0 0 0 1 0 1] true\n",
            "[1 0 1 0 0 0 0 0 0 1] predicted\n"
          ],
          "name": "stdout"
        }
      ]
    },
    {
      "cell_type": "code",
      "metadata": {
        "id": "VTTeZNxh7iEy",
        "colab_type": "code",
        "outputId": "31268e03-eaae-4604-8e9b-aa00a482afbc",
        "colab": {}
      },
      "source": [
        "# evaluate the model performance\n",
        "print('accuracy score: ', round(metrics.accuracy_score(y_test, y_preds),2))"
      ],
      "execution_count": 0,
      "outputs": [
        {
          "output_type": "stream",
          "text": [
            "accuracy score:  0.8\n"
          ],
          "name": "stdout"
        }
      ]
    },
    {
      "cell_type": "markdown",
      "metadata": {
        "id": "2zKpe5hB7iE7",
        "colab_type": "text"
      },
      "source": [
        "## Confusion Matrix"
      ]
    },
    {
      "cell_type": "code",
      "metadata": {
        "id": "aojSjSMh7iE8",
        "colab_type": "code",
        "outputId": "4b30946b-68c4-4fcb-e67e-f785f71079d2",
        "colab": {}
      },
      "source": [
        "# examine the confusion matrix\n",
        "cm = pd.DataFrame(metrics.confusion_matrix(y_test, y_preds), columns=['pred_0', 'pred_1'])\n",
        "cm"
      ],
      "execution_count": 0,
      "outputs": [
        {
          "output_type": "execute_result",
          "data": {
            "text/html": [
              "<div>\n",
              "<style scoped>\n",
              "    .dataframe tbody tr th:only-of-type {\n",
              "        vertical-align: middle;\n",
              "    }\n",
              "\n",
              "    .dataframe tbody tr th {\n",
              "        vertical-align: top;\n",
              "    }\n",
              "\n",
              "    .dataframe thead th {\n",
              "        text-align: right;\n",
              "    }\n",
              "</style>\n",
              "<table border=\"1\" class=\"dataframe\">\n",
              "  <thead>\n",
              "    <tr style=\"text-align: right;\">\n",
              "      <th></th>\n",
              "      <th>pred_0</th>\n",
              "      <th>pred_1</th>\n",
              "    </tr>\n",
              "  </thead>\n",
              "  <tbody>\n",
              "    <tr>\n",
              "      <th>0</th>\n",
              "      <td>71</td>\n",
              "      <td>6</td>\n",
              "    </tr>\n",
              "    <tr>\n",
              "      <th>1</th>\n",
              "      <td>24</td>\n",
              "      <td>49</td>\n",
              "    </tr>\n",
              "  </tbody>\n",
              "</table>\n",
              "</div>"
            ],
            "text/plain": [
              "   pred_0  pred_1\n",
              "0      71       6\n",
              "1      24      49"
            ]
          },
          "metadata": {
            "tags": []
          },
          "execution_count": 16
        }
      ]
    },
    {
      "cell_type": "markdown",
      "metadata": {
        "id": "fQb3RkHo7iE_",
        "colab_type": "text"
      },
      "source": [
        "* true positives (TP): These are cases in which we predicted yes (the median house value is high), and it is indeed high.\n",
        "* true negatives (TN): We predicted no (the median house value is not high), and it is indeed not high.\n",
        "* false positives (FP): We predicted yes (high median house value), but the median house value is not high. (Also known as a \"Type I error.\")\n",
        "* false negatives (FN): We predicted no (low median house value), but the house value is actually high. (Also known as a \"Type II error.\")"
      ]
    },
    {
      "cell_type": "markdown",
      "metadata": {
        "id": "8-z_Y9IR7iFA",
        "colab_type": "text"
      },
      "source": [
        "<div>\n",
        "<img src=\"https://miro.medium.com/max/1780/1*LQ1YMKBlbDhH9K6Ujz8QTw.jpeg\" width=\"500\"/>\n",
        "</div>\n",
        "SOURCE: https://towardsdatascience.com/demystifying-confusion-matrix-29f3037b0cfa\n"
      ]
    },
    {
      "cell_type": "markdown",
      "metadata": {
        "id": "MeQd_jlz7iFB",
        "colab_type": "text"
      },
      "source": [
        "**Sometimes the order of the cells is reversed, as follows:**\n",
        "<div>\n",
        "<img src=\"https://miro.medium.com/max/1400/1*h1EA_HjN0jSUh1y6SxdTKQ.png\" width=\"500\"/>\n",
        "</div>\n",
        "SOURCE: https://towardsdatascience.com/machine-learning-an-error-by-any-other-name-a7760a702c4d"
      ]
    },
    {
      "cell_type": "code",
      "metadata": {
        "id": "cQHz8Uo57iFB",
        "colab_type": "code",
        "colab": {}
      },
      "source": [
        "# get the numbers\n",
        "TN=cm['pred_0'].values[0]\n",
        "FN=cm['pred_0'].values[1]\n",
        "FP=cm['pred_1'].values[0]\n",
        "TP=cm['pred_1'].values[1]\n",
        "TOTAL=cm.values.sum()"
      ],
      "execution_count": 0,
      "outputs": []
    },
    {
      "cell_type": "code",
      "metadata": {
        "id": "nkKfh0ya7iFF",
        "colab_type": "code",
        "outputId": "d94e52a8-69a5-4643-94fb-f29be49c2493",
        "colab": {}
      },
      "source": [
        "print('True Negatives:', TN)\n",
        "print('False Negatives:', FN)\n",
        "print('False Positives:', FP)\n",
        "print('True Positives:', TP)\n",
        "print('All:', TOTAL)"
      ],
      "execution_count": 0,
      "outputs": [
        {
          "output_type": "stream",
          "text": [
            "True Negatives: 71\n",
            "False Negatives: 24\n",
            "False Positives: 6\n",
            "True Positives: 49\n",
            "All: 150\n"
          ],
          "name": "stdout"
        }
      ]
    },
    {
      "cell_type": "markdown",
      "metadata": {
        "id": "0Nct2-hw7iFL",
        "colab_type": "text"
      },
      "source": [
        "**Accuracy:**  \n",
        "Overall, how often is the model correct?"
      ]
    },
    {
      "cell_type": "code",
      "metadata": {
        "id": "6u3YjWyT7iFM",
        "colab_type": "code",
        "outputId": "880abfa4-63ac-47bc-95eb-a86248d37bd7",
        "colab": {}
      },
      "source": [
        "print(f'Accuracy: {round((TP + TN)/TOTAL, 2)}')"
      ],
      "execution_count": 0,
      "outputs": [
        {
          "output_type": "stream",
          "text": [
            "Accuracy: 0.8\n"
          ],
          "name": "stdout"
        }
      ]
    },
    {
      "cell_type": "markdown",
      "metadata": {
        "id": "W-Z_AqeO7iFP",
        "colab_type": "text"
      },
      "source": [
        "**True Positive Rate:**   \n",
        "When the answer is actually yes, how often does the model predict yes?        \n",
        "“Sensitivity” or “Recall”"
      ]
    },
    {
      "cell_type": "code",
      "metadata": {
        "id": "rdbTCwGL7iFQ",
        "colab_type": "code",
        "outputId": "273c2993-c02c-44b8-d40f-9a1c9d393ac4",
        "colab": {}
      },
      "source": [
        "print(f'True Positive Rate: {round(TP/ (TP + FN), 2)}')"
      ],
      "execution_count": 0,
      "outputs": [
        {
          "output_type": "stream",
          "text": [
            "True Positive Rate: 0.67\n"
          ],
          "name": "stdout"
        }
      ]
    },
    {
      "cell_type": "markdown",
      "metadata": {
        "id": "eq1NJf2N7iFV",
        "colab_type": "text"
      },
      "source": [
        "**False Positive Rate:**    \n",
        "When the answer is actually no, how often does the model predict yes?   \n",
        "Also known as \"Fall-out Rate\""
      ]
    },
    {
      "cell_type": "code",
      "metadata": {
        "id": "0dMleZn07iFV",
        "colab_type": "code",
        "outputId": "33846084-15d7-4190-d076-124d50c1fd2b",
        "colab": {}
      },
      "source": [
        "print(f'False Positive Rate: {round(FP / (TN + FP), 2)}')"
      ],
      "execution_count": 0,
      "outputs": [
        {
          "output_type": "stream",
          "text": [
            "False Positive Rate: 0.08\n"
          ],
          "name": "stdout"
        }
      ]
    },
    {
      "cell_type": "markdown",
      "metadata": {
        "id": "pQL6e-707iFZ",
        "colab_type": "text"
      },
      "source": [
        "**Precision:**     \n",
        "When the model predicts yes, how often is it correct?  \n",
        "Also known as \"Positive Predictive Value (PPV)\""
      ]
    },
    {
      "cell_type": "code",
      "metadata": {
        "id": "b9k_Gb1j7iFa",
        "colab_type": "code",
        "outputId": "aab81f88-6496-4cca-81b9-30cd9eb88816",
        "colab": {}
      },
      "source": [
        "print(f'Precision: {round(TP / (TP + FP), 2)}')"
      ],
      "execution_count": 0,
      "outputs": [
        {
          "output_type": "stream",
          "text": [
            "Precision: 0.89\n"
          ],
          "name": "stdout"
        }
      ]
    },
    {
      "cell_type": "markdown",
      "metadata": {
        "id": "ThVrEQBK7iFd",
        "colab_type": "text"
      },
      "source": [
        "**Specificity:**  \n",
        "When the answer actually no, how often does the model predict no?    \n",
        "also known as \"True Negative Rate\""
      ]
    },
    {
      "cell_type": "code",
      "metadata": {
        "id": "sUHGheEQ7iFd",
        "colab_type": "code",
        "outputId": "ffbe8742-e51e-44e3-f5a1-5bf6737e5da6",
        "colab": {}
      },
      "source": [
        "print(f'Specificity: {round(TN / (TN + FP), 2)}')"
      ],
      "execution_count": 0,
      "outputs": [
        {
          "output_type": "stream",
          "text": [
            "Specificity: 0.92\n"
          ],
          "name": "stdout"
        }
      ]
    },
    {
      "cell_type": "markdown",
      "metadata": {
        "id": "VEXdfT4w7iFh",
        "colab_type": "text"
      },
      "source": [
        "**Prevalence:**    \n",
        "How often does the yes condition actually occur in our sample?  \n",
        "actual yes/total"
      ]
    },
    {
      "cell_type": "code",
      "metadata": {
        "id": "j3IpzGWU7iFi",
        "colab_type": "code",
        "outputId": "e31201bc-2bb8-4d72-f13a-db347377d7ea",
        "colab": {}
      },
      "source": [
        "print(f'Prevalence: {round((TP + FN) / TOTAL, 2)}')"
      ],
      "execution_count": 0,
      "outputs": [
        {
          "output_type": "stream",
          "text": [
            "Prevalence: 0.49\n"
          ],
          "name": "stdout"
        }
      ]
    },
    {
      "cell_type": "markdown",
      "metadata": {
        "id": "Qd_6b_H17iFz",
        "colab_type": "text"
      },
      "source": [
        "#### Queue Rate:\n",
        "What percentage of the dataset is getting flagged as positive?"
      ]
    },
    {
      "cell_type": "code",
      "metadata": {
        "id": "VnZNYIps7iF_",
        "colab_type": "code",
        "outputId": "6fd9db42-d172-4da3-d474-fdb3a71d0e3f",
        "colab": {}
      },
      "source": [
        "print(f'Queue Rate: {round((TP + FP) / TOTAL, 2)}')"
      ],
      "execution_count": 0,
      "outputs": [
        {
          "output_type": "stream",
          "text": [
            "Queue Rate: 0.37\n"
          ],
          "name": "stdout"
        }
      ]
    },
    {
      "cell_type": "markdown",
      "metadata": {
        "id": "b04wQSFA7iGC",
        "colab_type": "text"
      },
      "source": [
        "## Again"
      ]
    },
    {
      "cell_type": "code",
      "metadata": {
        "id": "oiHUwnCn7iGD",
        "colab_type": "code",
        "outputId": "63dfcf79-0973-4e29-dac8-384c9cc158b6",
        "colab": {}
      },
      "source": [
        "# House age\n",
        "housing_train['housing_median_age'].describe()"
      ],
      "execution_count": 0,
      "outputs": [
        {
          "output_type": "execute_result",
          "data": {
            "text/plain": [
              "count    500.000000\n",
              "mean      27.894000\n",
              "std       12.493476\n",
              "min        2.000000\n",
              "25%       17.000000\n",
              "50%       28.000000\n",
              "75%       36.000000\n",
              "max       52.000000\n",
              "Name: housing_median_age, dtype: float64"
            ]
          },
          "metadata": {
            "tags": []
          },
          "execution_count": 88
        }
      ]
    },
    {
      "cell_type": "code",
      "metadata": {
        "id": "Uz6an3iA7iGJ",
        "colab_type": "code",
        "colab": {}
      },
      "source": [
        "# Create a target\n",
        "housing_train['old']=np.where(housing_train['housing_median_age']>=28, 1, 0)"
      ],
      "execution_count": 0,
      "outputs": []
    },
    {
      "cell_type": "code",
      "metadata": {
        "id": "0W56_gFT7iGV",
        "colab_type": "code",
        "colab": {}
      },
      "source": [
        "# establish the predictors and the target\n",
        "X = housing_train.drop(['housing_median_age','high_price', 'old'], axis=1)\n",
        "y = housing_train['old']"
      ],
      "execution_count": 0,
      "outputs": []
    },
    {
      "cell_type": "code",
      "metadata": {
        "id": "UK06k0S67iGf",
        "colab_type": "code",
        "outputId": "7ac7d6da-3b62-40d6-cdc9-c30055a91ba8",
        "colab": {}
      },
      "source": [
        "# train-test split\n",
        "X_train, X_test, y_train, y_test = train_test_split(X , y, test_size=0.3, random_state=42 )\n",
        "print('length of y-test:', len(y_test))"
      ],
      "execution_count": 0,
      "outputs": [
        {
          "output_type": "stream",
          "text": [
            "length of y-test: 150\n"
          ],
          "name": "stdout"
        }
      ]
    },
    {
      "cell_type": "code",
      "metadata": {
        "id": "ao_8kBG77iGj",
        "colab_type": "code",
        "colab": {}
      },
      "source": [
        "# instantiate the classifier\n",
        "mymodel = RandomForestClassifier()"
      ],
      "execution_count": 0,
      "outputs": []
    },
    {
      "cell_type": "code",
      "metadata": {
        "id": "KUWSbUQk7iGn",
        "colab_type": "code",
        "outputId": "ab3057e0-fbb0-4704-acb7-513135f98637",
        "colab": {}
      },
      "source": [
        "# fit on the training data\n",
        "mymodel.fit(X_train, y_train)"
      ],
      "execution_count": 0,
      "outputs": [
        {
          "output_type": "stream",
          "text": [
            "//anaconda3/lib/python3.7/site-packages/sklearn/ensemble/forest.py:245: FutureWarning: The default value of n_estimators will change from 10 in version 0.20 to 100 in 0.22.\n",
            "  \"10 in version 0.20 to 100 in 0.22.\", FutureWarning)\n"
          ],
          "name": "stderr"
        },
        {
          "output_type": "execute_result",
          "data": {
            "text/plain": [
              "RandomForestClassifier(bootstrap=True, class_weight=None, criterion='gini',\n",
              "                       max_depth=None, max_features='auto', max_leaf_nodes=None,\n",
              "                       min_impurity_decrease=0.0, min_impurity_split=None,\n",
              "                       min_samples_leaf=1, min_samples_split=2,\n",
              "                       min_weight_fraction_leaf=0.0, n_estimators=10,\n",
              "                       n_jobs=None, oob_score=False, random_state=None,\n",
              "                       verbose=0, warm_start=False)"
            ]
          },
          "metadata": {
            "tags": []
          },
          "execution_count": 93
        }
      ]
    },
    {
      "cell_type": "code",
      "metadata": {
        "id": "IajXc_wP7iGz",
        "colab_type": "code",
        "colab": {}
      },
      "source": [
        "# predict on the testing data\n",
        "y_preds = mymodel.predict(X_test)"
      ],
      "execution_count": 0,
      "outputs": []
    },
    {
      "cell_type": "code",
      "metadata": {
        "id": "hCZTKfmR7iG8",
        "colab_type": "code",
        "outputId": "1929ec37-b1a7-41ff-e979-63995c591346",
        "colab": {}
      },
      "source": [
        "# check out the first few houses\n",
        "print(y_test.values[:10], 'true')\n",
        "print(y_preds[:10], 'predicted')"
      ],
      "execution_count": 0,
      "outputs": [
        {
          "output_type": "stream",
          "text": [
            "[1 1 1 0 1 1 1 0 1 0] true\n",
            "[1 1 1 0 1 0 1 0 1 0] predicted\n"
          ],
          "name": "stdout"
        }
      ]
    },
    {
      "cell_type": "code",
      "metadata": {
        "id": "w7UMIVQS7iHA",
        "colab_type": "code",
        "outputId": "16f2db49-d63b-46ab-a888-9b22c5208582",
        "colab": {}
      },
      "source": [
        "# evaluate the model performance\n",
        "print('accuracy score: ', round(metrics.accuracy_score(y_test, y_preds),2))"
      ],
      "execution_count": 0,
      "outputs": [
        {
          "output_type": "stream",
          "text": [
            "accuracy score:  0.73\n"
          ],
          "name": "stdout"
        }
      ]
    },
    {
      "cell_type": "code",
      "metadata": {
        "id": "X6_Iuy3m7iHO",
        "colab_type": "code",
        "outputId": "789ece70-4afa-444e-ab8d-f96e1117374c",
        "colab": {}
      },
      "source": [
        "# examine the confusion matrix\n",
        "cm = pd.DataFrame(metrics.confusion_matrix(y_test, y_preds), columns=['pred_0', 'pred_1'])\n",
        "cm"
      ],
      "execution_count": 0,
      "outputs": [
        {
          "output_type": "execute_result",
          "data": {
            "text/html": [
              "<div>\n",
              "<style scoped>\n",
              "    .dataframe tbody tr th:only-of-type {\n",
              "        vertical-align: middle;\n",
              "    }\n",
              "\n",
              "    .dataframe tbody tr th {\n",
              "        vertical-align: top;\n",
              "    }\n",
              "\n",
              "    .dataframe thead th {\n",
              "        text-align: right;\n",
              "    }\n",
              "</style>\n",
              "<table border=\"1\" class=\"dataframe\">\n",
              "  <thead>\n",
              "    <tr style=\"text-align: right;\">\n",
              "      <th></th>\n",
              "      <th>pred_0</th>\n",
              "      <th>pred_1</th>\n",
              "    </tr>\n",
              "  </thead>\n",
              "  <tbody>\n",
              "    <tr>\n",
              "      <th>0</th>\n",
              "      <td>60</td>\n",
              "      <td>24</td>\n",
              "    </tr>\n",
              "    <tr>\n",
              "      <th>1</th>\n",
              "      <td>16</td>\n",
              "      <td>50</td>\n",
              "    </tr>\n",
              "  </tbody>\n",
              "</table>\n",
              "</div>"
            ],
            "text/plain": [
              "   pred_0  pred_1\n",
              "0      60      24\n",
              "1      16      50"
            ]
          },
          "metadata": {
            "tags": []
          },
          "execution_count": 97
        }
      ]
    },
    {
      "cell_type": "code",
      "metadata": {
        "id": "uhZp77QH7iHS",
        "colab_type": "code",
        "colab": {}
      },
      "source": [
        "# get the numbers\n",
        "TN=cm['pred_0'].values[0]\n",
        "FN=cm['pred_0'].values[1]\n",
        "FP=cm['pred_1'].values[0]\n",
        "TP=cm['pred_1'].values[1]\n",
        "ALL=cm.values.sum()"
      ],
      "execution_count": 0,
      "outputs": []
    },
    {
      "cell_type": "code",
      "metadata": {
        "id": "SdIvyeak7iHX",
        "colab_type": "code",
        "outputId": "0ec25349-100c-4192-d60b-63272599890a",
        "colab": {}
      },
      "source": [
        "print(f'Accuracy: {round((TP + TN)/TOTAL, 2)}')\n",
        "print(f'True Positive Rate: {round(TP/ (TP + FN), 2)}')\n",
        "print(f'False Positive Rate: {round(FP / (TN + FP), 2)}')\n",
        "print(f'Precision: {round(TP / (TP + FP), 2)}')\n",
        "print(f'Specificity: {round(TN / (TN + FP), 2)}')\n",
        "print(f'Prevalence: {round(TP + FN / TOTAL, 2)}')"
      ],
      "execution_count": 0,
      "outputs": [
        {
          "output_type": "stream",
          "text": [
            "Accuracy: 0.73\n",
            "True Positive Rate: 0.76\n",
            "False Positive Rate: 0.29\n",
            "Precision: 0.68\n",
            "Specificity: 0.71\n",
            "Prevalence: 50.11\n"
          ],
          "name": "stdout"
        }
      ]
    },
    {
      "cell_type": "markdown",
      "metadata": {
        "id": "GKmBaDMz7iHg",
        "colab_type": "text"
      },
      "source": [
        "## Terminology\n",
        "\n",
        "| Bayes term | Bayes formula | Confusion Matrix term | Confusion Matrix formula| Alternative CM term | \n",
        "|:-|:-|:-|:-|:-|\n",
        "| prior | P(A) | prevalence | (TP + FN) / (TP+TN+FP+FN) | ? |\n",
        "| posterior | P(A given B) | Positive Predictive Value (PPV) | TP / (TP + FP) | precision |\n",
        "| conditional | P(B given A) | True Positive Rate (TPR)  |TP / (TP + FN) | sensitivity, recall |\n",
        "| marginal | P(B) | queue rate | (TP + FP) / (TP+TN+FP+FN) | ? |  \n",
        "| prior complement | P(not A) or 100-P(A) | prevalence complement | 1-prevalence | ? |\n",
        "| ? | P(not B given not A) | True Negative Rate (TNR) | TN / (FP + TN) | specificity |\n",
        "| ? | P(B given not A) | False Positive Rate (FPR) | FP / (FP+TN) | fall-out rate, false alarm rate |\n",
        "| ? | P(not B given A) | False Negative Rate (FNR) | FN / (TP + FN) | miss rate |\n",
        "|?|?|accuracy|(TP + TN) / (TP+TN+FP+FN)|?|\n",
        "|?|?|error rate|(FP + FN) / (TP+TN+FP+FN)|misclassification rate|\n",
        "\n",
        "\n",
        "**Abbreviations**  \n",
        "A: Hypothesized Data       \n",
        "B: Observed Data         \n",
        "TP: True Positive  \n",
        "TN: True Negative  \n",
        "FP: False Positive  \n",
        "FN: False Negative  \n",
        " \n",
        "^ Note: Sometimes in Bayesian statistics the following terms are used instead:\n",
        " \n",
        "* prior = hypothesis\n",
        "* posterior = updated hypothesis\n",
        "* conditional = likelihood\n",
        "* marginal = model evidence"
      ]
    },
    {
      "cell_type": "markdown",
      "metadata": {
        "id": "S-2aST8k7iHg",
        "colab_type": "text"
      },
      "source": [
        "## Problem 1. Drunk Drivers"
      ]
    },
    {
      "cell_type": "markdown",
      "metadata": {
        "id": "WyZZa-Mw7iHh",
        "colab_type": "text"
      },
      "source": [
        "imagine that individuals are taking a breathalyzer test with \n",
        "* an 8% false positive rate, \n",
        "* a 100% true positive rate, \n",
        "* our prior belief about drunk driving in the population is 1/1000. \n",
        "* What is the probability that a person is drunk after one positive breathalyzer test?"
      ]
    },
    {
      "cell_type": "code",
      "metadata": {
        "id": "Nt-Jnva77iHi",
        "colab_type": "code",
        "colab": {}
      },
      "source": [
        "def prob_drunk_given_positive(prob_drunk_prior, false_positive_rate, true_positive_rate):\n",
        "    prob_non_drunk = 1 - prob_drunk_prior\n",
        "    numerator = (true_positive_rate*prob_drunk_prior)\n",
        "    denomenator = ((true_positive_rate*prob_drunk_prior) + (false_positive_rate*prob_non_drunk))\n",
        "    posterior_probability = (numerator / denomenator)\n",
        "    return posterior_probability"
      ],
      "execution_count": 0,
      "outputs": []
    },
    {
      "cell_type": "code",
      "metadata": {
        "id": "bTbn-du87iHn",
        "colab_type": "code",
        "outputId": "1f09752c-625d-4904-ed4d-6765c08b420f",
        "colab": {}
      },
      "source": [
        "# Probability that a person is drunk after one breathalyzer test:\n",
        "posterior = prob_drunk_given_positive(1/1000, .08, 1)\n",
        "print('{:.4f}'.format(posterior))"
      ],
      "execution_count": 0,
      "outputs": [
        {
          "output_type": "stream",
          "text": [
            "0.0124\n"
          ],
          "name": "stdout"
        }
      ]
    },
    {
      "cell_type": "markdown",
      "metadata": {
        "id": "5KmwCQ017iIB",
        "colab_type": "text"
      },
      "source": [
        "## Problem 2: Marginal is provided\n",
        "Solving for the posterior is not too complicated when the marginal probability is provided for you. \n",
        "\n",
        "Suppose we have an online website where we sell a gizmo. Consider the case where a website-visitor clicks to expand the gizmo's product description. What is the probability that they will then purchase the gizmo?\n",
        "\n",
        "Let’s assume some details:  \n",
        "* 10 percent of site visitors buy the gizmo.  That's the prior: P(buy).\n",
        "* 7 percent of site visitors that purchased the gizmo also clicked on the description. That's the conditional: P(click|buy).\n",
        "* 5 percent of site visitors click on the product description. That's the marginal: P(click).\n",
        "* What percent of site visitors will purchase the gizmo after clicking on the description? That's the posterior: P(buy|click)."
      ]
    },
    {
      "cell_type": "markdown",
      "metadata": {
        "id": "lYrQCQ-t7iIB",
        "colab_type": "text"
      },
      "source": [
        "Let’s plug what we know into the theorem:\n",
        "* P(A|B) = P(B|A) * P(A) / P(B)   \n",
        "* P(buy|click) = P(click|buy) * P(buy) / P(click)"
      ]
    },
    {
      "cell_type": "code",
      "metadata": {
        "id": "CoXCyBMu7iID",
        "colab_type": "code",
        "colab": {}
      },
      "source": [
        "# input the prior, marginal, and conditional.\n",
        "p_a = 0.10 \n",
        "p_b = 0.05 \n",
        "p_b_given_a = 0.07 "
      ],
      "execution_count": 0,
      "outputs": []
    },
    {
      "cell_type": "code",
      "metadata": {
        "id": "DDPHAYKg7iIH",
        "colab_type": "code",
        "colab": {}
      },
      "source": [
        "# write the formula\n",
        "def bayes_w_marginal(p_a, p_b, p_b_given_a):\n",
        "    p_a_given_b = (p_b_given_a * p_a) / p_b\n",
        "    return p_a_given_b"
      ],
      "execution_count": 0,
      "outputs": []
    },
    {
      "cell_type": "code",
      "metadata": {
        "id": "H9wVwjDQ7iIK",
        "colab_type": "code",
        "outputId": "8648c34a-5799-47b8-c625-ccf795acd0c4",
        "colab": {}
      },
      "source": [
        "# plug it in\n",
        "result = bayes_w_marginal(p_a, p_b, p_b_given_a)\n",
        "print('P(A|B) = {:.3f}%'.format(result * 100))"
      ],
      "execution_count": 0,
      "outputs": [
        {
          "output_type": "stream",
          "text": [
            "P(A|B) = 14.000%\n"
          ],
          "name": "stdout"
        }
      ]
    },
    {
      "cell_type": "markdown",
      "metadata": {
        "id": "0n3Eci5h7iIW",
        "colab_type": "text"
      },
      "source": [
        "## Problem 3: No marginal provided!\n",
        "Solving for the posterior is a little harder when the marginal is not provided; most real-world problems fall into this pattern.\n",
        "\n",
        "Consider the case where we receive an email and the spam detector flags it (i.e., puts it in the spam folder). What is the probability it was actally spam?\n",
        "\n",
        "Let’s assume some details:  \n",
        "* 2 percent of the email we receive is spam -- that's the prior: P(Spam). \n",
        "* the spam detector is really good and when an email is spam, it flags it 99 percent of the time -- that's the conditional: P(Flagged|Spam).   \n",
        "* When an email is not spam, it will flag it with a very low rate of 0.1 percent -- that's the fall-out rate: P(Flagged|not Spam).  \n",
        "* What is the probability that a flagged email is actually spam? -- that's the posterior: P(Spam|Flagged) "
      ]
    },
    {
      "cell_type": "markdown",
      "metadata": {
        "id": "-GQmqb2x7iIW",
        "colab_type": "text"
      },
      "source": [
        "Let’s plug what we know into the theorem:\n",
        "* P(A|B) = P(B|A) * P(A) / P(B)   \n",
        "* P(Spam|Flagged) = P(Flagged|Spam) * P(Spam) / P(Flagged)"
      ]
    },
    {
      "cell_type": "markdown",
      "metadata": {
        "id": "S0mZS3Bc7iIY",
        "colab_type": "text"
      },
      "source": [
        "We don’t know P(B), that is P(Flagged), but we can calculate it as follows:\n",
        "* P(B) = P(B|A) * P(A) + P(B|not A) * P(not A) \n",
        "* P(Flagged) = P(Flagged|Spam) * P(Spam) + P(Flagged|not Spam) * P(not Spam)"
      ]
    },
    {
      "cell_type": "code",
      "metadata": {
        "id": "Q6poV88W7iIa",
        "colab_type": "code",
        "colab": {}
      },
      "source": [
        "# input the prior, conditional, and fall-out rate.\n",
        "p_a = 0.02 \n",
        "p_b_given_a = 0.99 \n",
        "p_b_given_not_a = 0.001 "
      ],
      "execution_count": 0,
      "outputs": []
    },
    {
      "cell_type": "code",
      "metadata": {
        "id": "gjjBvkMf7iIi",
        "colab_type": "code",
        "colab": {}
      },
      "source": [
        "# write the formula\n",
        "def bayes_no_marginal(p_a, p_b_given_a, p_b_given_not_a):\n",
        "    not_a = 1 - p_a\n",
        "    p_b = p_b_given_a * p_a + p_b_given_not_a * not_a\n",
        "    p_a_given_b = (p_b_given_a * p_a) / p_b\n",
        "    return p_a_given_b"
      ],
      "execution_count": 0,
      "outputs": []
    },
    {
      "cell_type": "code",
      "metadata": {
        "id": "A1m9a9uf7iIl",
        "colab_type": "code",
        "outputId": "b6a74142-a8ea-4c74-e390-30339bf9563c",
        "colab": {}
      },
      "source": [
        "# plug it in\n",
        "posterior = bayes_no_marginal(p_a, p_b_given_a, p_b_given_not_a)\n",
        "print('P(A|B) = {:.3f}%'.format(posterior * 100))"
      ],
      "execution_count": 0,
      "outputs": [
        {
          "output_type": "stream",
          "text": [
            "P(A|B) = 95.284%\n"
          ],
          "name": "stdout"
        }
      ]
    },
    {
      "cell_type": "markdown",
      "metadata": {
        "id": "ov1oKDaT7iIq",
        "colab_type": "text"
      },
      "source": [
        "## Problem 4. No marginal (again)\n",
        "What if only two pieces of information are available?"
      ]
    },
    {
      "cell_type": "markdown",
      "metadata": {
        "id": "oN5EPd9g7iIq",
        "colab_type": "text"
      },
      "source": [
        "Let’s assume some details:  \n",
        "* the condition occurs in 2% of the population -- that's the prior: P(sick). \n",
        "* when a patient is actually sick, the classifier flags them as sick 72 percent of the time -- that's the conditional: P(Flagged|Sick).   \n",
        "* when the classifier says they are not sick, this is true 97 percent of the time. That's P(not Flagged | not Sick)\n",
        "* What is the probability that a flagged patient is actually sick? -- that's the posterior: P(Sick|Flagged).\n",
        "\n",
        "We don't know the marginal P(B), and we don't know the fall-out rate -- P(Flagged|not Sick) -- but we can calculate them using the formulas:\n",
        "\n",
        "* P(B) = P(B|A) * P(A) + P(B|not A) * P(not A)\n",
        "* P(B|not A) = 1 – P(not B|not A)\n",
        "\n",
        "Which translates to: \n",
        "* P(Flagged) = P(Flagged|Sick) * P(Sick) + P(Flagged|not Sick) * P(not Sick)\n",
        "* P(Flagged|not Sick) = 1 - P(not Flagged|not Sick)"
      ]
    },
    {
      "cell_type": "code",
      "metadata": {
        "id": "3dKW0gv47iIr",
        "colab_type": "code",
        "colab": {}
      },
      "source": [
        "# input the prior, conditional, and P(not B|not A).\n",
        "p_a = 0.02\n",
        "p_b_given_a = 0.72\n",
        "p_not_b_given_not_a = 0.97 "
      ],
      "execution_count": 0,
      "outputs": []
    },
    {
      "cell_type": "code",
      "metadata": {
        "id": "Nsq-QN1w7iI6",
        "colab_type": "code",
        "colab": {}
      },
      "source": [
        "# write the formula:\n",
        "def bayes_no_marginal_no_fallout(p_a, p_b_given_a, p_not_b_given_not_a):\n",
        "    not_a = 1 - p_a\n",
        "    p_b_given_not_a = 1 - p_not_b_given_not_a\n",
        "    p_b = p_b_given_a * p_a + p_b_given_not_a * not_a\n",
        "    p_a_given_b = (p_b_given_a * p_a) / p_b\n",
        "    return p_a_given_b"
      ],
      "execution_count": 0,
      "outputs": []
    },
    {
      "cell_type": "code",
      "metadata": {
        "id": "TapqjpKw7iJC",
        "colab_type": "code",
        "outputId": "cf86682a-835d-4c32-e8ee-6b89dd08502e",
        "colab": {}
      },
      "source": [
        "# plug it in:\n",
        "posterior = bayes_no_marginal_no_fallout(p_a, p_b_given_a, p_not_b_given_not_a)\n",
        "print('P(A|B) = {:.3f}%'.format(posterior * 100))"
      ],
      "execution_count": 0,
      "outputs": [
        {
          "output_type": "stream",
          "text": [
            "P(A|B) = 32.877%\n"
          ],
          "name": "stdout"
        }
      ]
    },
    {
      "cell_type": "markdown",
      "metadata": {
        "id": "pSmWJ3Pe7iJG",
        "colab_type": "text"
      },
      "source": [
        "Sources:  \n",
        "* http://learningwithdata.com/bayes-primer.html#bayes-primer  \n",
        "* https://machinelearningmastery.com/intuition-for-bayes-theorem-with-worked-examples/  \n",
        "* https://www.bayestheorem.net/  \n",
        "* https://lucdemortier.github.io/articles/16/PerformanceMetrics\n",
        "* https://towardsdatascience.com/machine-learning-an-error-by-any-other-name-a7760a702c4d\n",
        "* https://ncss-wpengine.netdna-ssl.com/wp-content/themes/ncss/pdf/Procedures/NCSS/Binary_Diagnostic_Tests-Single_Sample.pdf\n",
        "* https://www.dataschool.io/simple-guide-to-confusion-matrix-terminology/\n",
        "* https://online.stat.psu.edu/stat507/node/71/"
      ]
    }
  ]
}